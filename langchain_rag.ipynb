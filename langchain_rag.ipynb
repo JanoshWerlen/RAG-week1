{
 "cells": [
  {
   "cell_type": "code",
   "execution_count": 73,
   "metadata": {},
   "outputs": [],
   "source": [
    "from langchain.document_loaders import PyPDFLoader\n",
    "from langchain.chains import RetrievalQA\n",
    "from langchain_openai import ChatOpenAI\n",
    "from langchain_openai import OpenAIEmbeddings\n",
    "from langchain.text_splitter import RecursiveCharacterTextSplitter\n",
    "from dotenv import load_dotenv\n",
    "import openai\n",
    "import os\n",
    "from langchain.vectorstores import Chroma\n"
   ]
  },
  {
   "cell_type": "markdown",
   "metadata": {},
   "source": [
    "## Load PDF data\n",
    "Loads the data and splits it into chunks.\n",
    "Each chunk contains 1 langchain document which corresponds to  1 PDF page."
   ]
  },
  {
   "cell_type": "code",
   "execution_count": 47,
   "metadata": {},
   "outputs": [],
   "source": [
    "text_splitter = RecursiveCharacterTextSplitter(chunk_size=1000, chunk_overlap=100)\n",
    "loader = PyPDFLoader(\"data/document.pdf\")\n",
    "chunks = loader.load_and_split(text_splitter)"
   ]
  },
  {
   "cell_type": "code",
   "execution_count": 56,
   "metadata": {},
   "outputs": [
    {
     "name": "stdout",
     "output_type": "stream",
     "text": [
      "page_content=\"Can Machines Really Think,Learn, and Act Intelligently?In this post, we're going to define whatmachine learning is and how computersthink and learn. We're also going to look atsome history relevant to the developmentof the intelligent machine.jeffSep 18, 2023\\nGenerated using Microsoft Designer\\n😎\\nThere are so many introductory posts about AI and ML, andyet I decided to write this one. Do you know why? Becausethey're all boring. Not this one though, this one is cool. It alsoincludes an awesome optional quiz to test your AIsuperpowers. But here's the deal, you promise to subscribeif you do the quiz. Okay?\" metadata={'source': 'data/document.pdf', 'page': 0}\n",
      "The chunk contains 609 characters\n"
     ]
    }
   ],
   "source": [
    "print(chunks[0])\n",
    "print(\"The chunk contains \" + str(len(chunks[0].page_content)) + \" characters\")"
   ]
  },
  {
   "cell_type": "markdown",
   "metadata": {},
   "source": [
    "## Setup models"
   ]
  },
  {
   "cell_type": "code",
   "execution_count": 57,
   "metadata": {},
   "outputs": [],
   "source": [
    "\n",
    "# Load environment variables from .env file\n",
    "load_dotenv()\n",
    "# Access the API key using the variable name defined in the .env file\n",
    "openai.api_key = os.getenv(\"OPENAI_API_KEY\")\n",
    "\n",
    "# Initialize the OpenAI chat model\n",
    "llm = ChatOpenAI(model_name=\"gpt-3.5-turbo\", temperature=0.8)\n",
    "\n",
    "# initialize the OpenAI embeddings model\n",
    "embeddings = OpenAIEmbeddings()"
   ]
  },
  {
   "cell_type": "code",
   "execution_count": 79,
   "metadata": {},
   "outputs": [
    {
     "name": "stdout",
     "output_type": "stream",
     "text": [
      "Loading Chroma from disk.\n"
     ]
    }
   ],
   "source": [
    "if os.path.exists(\"chroma\"):\n",
    "    print(\"Loading Chroma from disk.\")\n",
    "    Chroma(persist_directory=\"chroma\", embedding_function=embeddings)\n",
    "else:\n",
    "    chroma_db = Chroma.from_documents(documents=chunks,\n",
    "                                    embedding=embeddings,\n",
    "                                    persist_directory=\"chroma\",\n",
    "                                    collection_name=\"lc_chroma_demo\")"
   ]
  },
  {
   "cell_type": "code",
   "execution_count": 65,
   "metadata": {},
   "outputs": [],
   "source": [
    "query = \"What is this document about?\""
   ]
  },
  {
   "cell_type": "code",
   "execution_count": 69,
   "metadata": {},
   "outputs": [
    {
     "name": "stdout",
     "output_type": "stream",
     "text": [
      "[Document(page_content='📚', metadata={'page': 3, 'source': 'data/document.pdf'}), Document(page_content=\"sense? Great. If not, have no fear as we're going todive deeper into this topic below, so keep on reading!\", metadata={'page': 3, 'source': 'data/document.pdf'}), Document(page_content=\"Can Machines Really Think,Learn, and Act Intelligently?In this post, we're going to define whatmachine learning is and how computersthink and learn. We're also going to look atsome history relevant to the developmentof the intelligent machine.jeffSep 18, 2023\\nGenerated using Microsoft Designer\\n😎\\nThere are so many introductory posts about AI and ML, andyet I decided to write this one. Do you know why? Becausethey're all boring. Not this one though, this one is cool. It alsoincludes an awesome optional quiz to test your AIsuperpowers. But here's the deal, you promise to subscribeif you do the quiz. Okay?\", metadata={'page': 0, 'source': 'data/document.pdf'}), Document(page_content='Do it.Become a member now, for free. Just get thegood stuff, no spam ever. Plus you canunsubscribe anytime if you don\\'t like whatyou\\'re getting.No spam. Unsubscribe anytime.The \"Thinking Machine\"Why did Hinton and Rosenblatt spend time and effort todevelop artificial intelligence in the first place? Well, for thesame reasons as to why we invented cars, planes, or houses.To improve life! And by having a machine do the boring workfor us, oh boy how much time we\\'ll save to focus on the realstuff that matters, like browsing through Reddit, and X(Formerly Twitter). (just kidding)', metadata={'page': 4, 'source': 'data/document.pdf'})]\n"
     ]
    }
   ],
   "source": [
    "result = chroma_db.similarity_search(query)\n",
    "print(result)"
   ]
  },
  {
   "cell_type": "code",
   "execution_count": 72,
   "metadata": {},
   "outputs": [
    {
     "name": "stdout",
     "output_type": "stream",
     "text": [
      "[(Document(page_content='📚', metadata={'page': 3, 'source': 'data/document.pdf'}), 0.45090146004976395), (Document(page_content=\"sense? Great. If not, have no fear as we're going todive deeper into this topic below, so keep on reading!\", metadata={'page': 3, 'source': 'data/document.pdf'}), 0.47940380145106226), (Document(page_content=\"Can Machines Really Think,Learn, and Act Intelligently?In this post, we're going to define whatmachine learning is and how computersthink and learn. We're also going to look atsome history relevant to the developmentof the intelligent machine.jeffSep 18, 2023\\nGenerated using Microsoft Designer\\n😎\\nThere are so many introductory posts about AI and ML, andyet I decided to write this one. Do you know why? Becausethey're all boring. Not this one though, this one is cool. It alsoincludes an awesome optional quiz to test your AIsuperpowers. But here's the deal, you promise to subscribeif you do the quiz. Okay?\", metadata={'page': 0, 'source': 'data/document.pdf'}), 0.5062774371012403), (Document(page_content='Do it.Become a member now, for free. Just get thegood stuff, no spam ever. Plus you canunsubscribe anytime if you don\\'t like whatyou\\'re getting.No spam. Unsubscribe anytime.The \"Thinking Machine\"Why did Hinton and Rosenblatt spend time and effort todevelop artificial intelligence in the first place? Well, for thesame reasons as to why we invented cars, planes, or houses.To improve life! And by having a machine do the boring workfor us, oh boy how much time we\\'ll save to focus on the realstuff that matters, like browsing through Reddit, and X(Formerly Twitter). (just kidding)', metadata={'page': 4, 'source': 'data/document.pdf'}), 0.5196057447866013)]\n"
     ]
    }
   ],
   "source": [
    "result_with_scores = chroma_db.similarity_search_with_score(query)\n",
    "print(result_with_scores)"
   ]
  },
  {
   "cell_type": "code",
   "execution_count": 74,
   "metadata": {},
   "outputs": [],
   "source": [
    "chain = RetrievalQA.from_chain_type(llm=llm, chain_type=\"stuff\", retriever=chroma_db.as_retriever())"
   ]
  },
  {
   "cell_type": "code",
   "execution_count": 77,
   "metadata": {},
   "outputs": [
    {
     "name": "stdout",
     "output_type": "stream",
     "text": [
      "{'query': 'What is this document about?', 'result': 'This document is about machine learning, artificial intelligence, and the development of intelligent machines. It discusses how machines think, learn, and act intelligently, as well as the history of artificial intelligence.'}\n"
     ]
    }
   ],
   "source": [
    "response = chain.invoke(query)\n",
    "print(response)"
   ]
  },
  {
   "cell_type": "code",
   "execution_count": null,
   "metadata": {},
   "outputs": [],
   "source": []
  }
 ],
 "metadata": {
  "kernelspec": {
   "display_name": "venv",
   "language": "python",
   "name": "python3"
  },
  "language_info": {
   "codemirror_mode": {
    "name": "ipython",
    "version": 3
   },
   "file_extension": ".py",
   "mimetype": "text/x-python",
   "name": "python",
   "nbconvert_exporter": "python",
   "pygments_lexer": "ipython3",
   "version": "3.11.4"
  }
 },
 "nbformat": 4,
 "nbformat_minor": 2
}
