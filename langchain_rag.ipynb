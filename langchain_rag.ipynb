{
 "cells": [
  {
   "cell_type": "markdown",
   "metadata": {},
   "source": [
    "# Interactive Introduction to ML and AI with a RAG-System\n",
    "\n",
    "Based on a PDF containing a starter set of DND 5e character [sheets](https://dnd5echaractersheet.com/)\n"
   ]
  },
  {
   "cell_type": "markdown",
   "metadata": {},
   "source": [
    "## sys admin\n",
    "\n",
    "Create a .env file with the following content:\n",
    "\n",
    "`OPENAI_API_KEY = \"^<API_KEY>\"`"
   ]
  },
  {
   "cell_type": "code",
   "execution_count": 1,
   "metadata": {},
   "outputs": [],
   "source": [
    "# required libraries for the tutorial\n",
    "import openai\n",
    "import os\n",
    "from dotenv import load_dotenv\n",
    "from langchain.document_loaders import PyPDFLoader\n",
    "from langchain.chains import RetrievalQA\n",
    "from langchain_openai import ChatOpenAI\n",
    "from langchain_openai import OpenAIEmbeddings\n",
    "from langchain.text_splitter import RecursiveCharacterTextSplitter\n",
    "from langchain.vectorstores import Chroma"
   ]
  },
  {
   "cell_type": "markdown",
   "metadata": {},
   "source": [
    "## Load PDF data\n",
    "Loads the data and splits it into chunks.\n",
    "Each chunk contains 1000 characters max with a max overlap of 100 characters."
   ]
  },
  {
   "cell_type": "code",
   "execution_count": 8,
   "metadata": {},
   "outputs": [],
   "source": [
    "text_splitter = RecursiveCharacterTextSplitter(chunk_size=1000, chunk_overlap=100)\n",
    "loader = PyPDFLoader(\"data/Personalrecht.pdf\")\n",
    "chunks = loader.load_and_split(text_splitter)"
   ]
  },
  {
   "cell_type": "markdown",
   "metadata": {},
   "source": [
    "### Check the chunks\n",
    "get chunk content with: chunks[index].page_content"
   ]
  },
  {
   "cell_type": "code",
   "execution_count": 9,
   "metadata": {},
   "outputs": [
    {
     "name": "stdout",
     "output_type": "stream",
     "text": [
      "page_content='177.100 \\n177.101 \\n \\n \\n \\n  \\nPersonalrecht\\nVerordnung\\nüber das Arbeitsverhältnis\\ndes städtischen Personals und\\nAusführungsbestimmungen\\nGültig ab 1. Juli 2002\\nNachgeführt bis 7. Februar 2007' metadata={'source': 'data/Personalrecht.pdf', 'page': 0}\n",
      "The chunk contains 187 characters\n"
     ]
    }
   ],
   "source": [
    "print(chunks[0])\n",
    "print(\"The chunk contains \" + str(len(chunks[0].page_content)) + \" characters\")"
   ]
  },
  {
   "cell_type": "markdown",
   "metadata": {},
   "source": [
    "## Setup models\n",
    "\n",
    "We need to prepare an embedding model to vectorise our chunks before storing them into our ChromaDB and a language model to generate answers to our questions."
   ]
  },
  {
   "cell_type": "code",
   "execution_count": 10,
   "metadata": {},
   "outputs": [],
   "source": [
    "\n",
    "# Load environment variables from .env file\n",
    "load_dotenv()\n",
    "\n",
    "# Access the API key using the variable name defined in the .env file\n",
    "openai.api_key = os.getenv(\"OPENAI_API_KEY\")\n",
    "\n",
    "# Initialize the OpenAI chat model\n",
    "llm = ChatOpenAI(model_name=\"gpt-3.5-turbo\", temperature=0.8)\n",
    "\n",
    "# initialize the OpenAI embeddings model\n",
    "embeddings = OpenAIEmbeddings()"
   ]
  },
  {
   "cell_type": "markdown",
   "metadata": {},
   "source": [
    "### Load / Create Chroma DB\n",
    "\n",
    "We check for the existence of the directory for 2 reasons:\n",
    "1) We use Openai Embeddings and pay for the embedding generation\n",
    "2) Chroma does not overwrite an existing database, but allows to upate it"
   ]
  },
  {
   "cell_type": "code",
   "execution_count": 11,
   "metadata": {},
   "outputs": [],
   "source": [
    "if os.path.exists(\"chroma\"):\n",
    "    print(\"Loading Chroma from disk...\")\n",
    "    Chroma(persist_directory=\"chroma\", embedding_function=embeddings)\n",
    "else:\n",
    "    chroma_db = Chroma.from_documents(documents=chunks,\n",
    "                                    embedding=embeddings,\n",
    "                                    persist_directory=\"chroma\",\n",
    "                                    collection_name=\"lc_chroma_demo\")"
   ]
  },
  {
   "cell_type": "markdown",
   "metadata": {},
   "source": [
    "### Test Your Database"
   ]
  },
  {
   "cell_type": "code",
   "execution_count": 17,
   "metadata": {},
   "outputs": [],
   "source": [
    "query = \"Was ist der Ferienanspruch?\""
   ]
  },
  {
   "cell_type": "markdown",
   "metadata": {},
   "source": [
    "Simple Similarity Search"
   ]
  },
  {
   "cell_type": "code",
   "execution_count": 18,
   "metadata": {},
   "outputs": [
    {
     "name": "stdout",
     "output_type": "stream",
     "text": [
      "[Document(page_content='Anspruch auf eine zusätzliche Ferienwoche haben, jedoch nur, soweit der Saldo die wöchentliche Normalarbeitszeit gemäss Art. 157 Abs. 1 und 2 übersteigt.', metadata={'page': 88, 'source': 'data/Personalrecht.pdf'}), Document(page_content='7Die Ferien sind bis Ende April de s Folgejahres zu beziehen. Ist \\ndies nicht möglich, kann die Dienstchefin oder der Dienstchef den späteren Bezug bewilligen.', metadata={'page': 105, 'source': 'data/Personalrecht.pdf'}), Document(page_content='Ausführungsbestimmungen zum Personalrecht  \\n 79 Art. 118 Ferienanspruch bei Stundenlohn \\nDer Ferienanspruch von Angeste llten im Stundenlohn wird un-\\nter Vorbehalt von Art. 117 Abs. 2 tageweise wie folgt berechnet: \\na) bei vier Wochen Ferien im J ahr: ein Ferientag auf 109 Ar-\\nbeitsstunden; \\nb) bei fünf Wochen Ferien im Jahr: ein Ferientag auf 87 Ar-\\nbeitsstunden; \\nc) bei sechs Wochen Ferien im Jahr: ein Ferientag auf 72 Ar-\\nbeitsstunden. \\nArt. 119 Bezug der Ferien \\n1Der grössere Teil der Ferien ist möglichst zusammenhängend \\nzu beziehen. Wenn es betrieblich möglich ist, können die Ange-stellten eine Ferienwoche in  ganzen oder halben Tagen bezie-\\nhen. \\n2Die Wünsche der Angestellten bezüglich des Ferienbezugs \\nsind soweit möglich zu erfüllen. Die Ferien sind so festzuset-zen, dass ein reibungsloser Betrieb gewährleistet ist. Die Fe-rienpläne sind möglichst frühzeitig zu erstellen und den Ange-stellten zur Kenntnis zu bringen.', metadata={'page': 105, 'source': 'data/Personalrecht.pdf'}), Document(page_content='3. Ferien, Altersentlastung  76 \\nArt. 113 Ferienanspruch  76 \\nArt. 114 Ferienwoche  77 \\nArt. 115 Altersentlastung im Schichtdienst  77 Art. 116 Zusätzliche Ferienansprüche  77', metadata={'page': 14, 'source': 'data/Personalrecht.pdf'})]\n"
     ]
    }
   ],
   "source": [
    "result = chroma_db.similarity_search(query)\n",
    "print(result)"
   ]
  },
  {
   "cell_type": "markdown",
   "metadata": {},
   "source": [
    "Similarity Search with Scores"
   ]
  },
  {
   "cell_type": "code",
   "execution_count": 19,
   "metadata": {},
   "outputs": [
    {
     "name": "stdout",
     "output_type": "stream",
     "text": [
      "[(Document(page_content='Anspruch auf eine zusätzliche Ferienwoche haben, jedoch nur, soweit der Saldo die wöchentliche Normalarbeitszeit gemäss Art. 157 Abs. 1 und 2 übersteigt.', metadata={'page': 88, 'source': 'data/Personalrecht.pdf'}), 0.28654855489730835), (Document(page_content='7Die Ferien sind bis Ende April de s Folgejahres zu beziehen. Ist \\ndies nicht möglich, kann die Dienstchefin oder der Dienstchef den späteren Bezug bewilligen.', metadata={'page': 105, 'source': 'data/Personalrecht.pdf'}), 0.3275854289531708), (Document(page_content='Ausführungsbestimmungen zum Personalrecht  \\n 79 Art. 118 Ferienanspruch bei Stundenlohn \\nDer Ferienanspruch von Angeste llten im Stundenlohn wird un-\\nter Vorbehalt von Art. 117 Abs. 2 tageweise wie folgt berechnet: \\na) bei vier Wochen Ferien im J ahr: ein Ferientag auf 109 Ar-\\nbeitsstunden; \\nb) bei fünf Wochen Ferien im Jahr: ein Ferientag auf 87 Ar-\\nbeitsstunden; \\nc) bei sechs Wochen Ferien im Jahr: ein Ferientag auf 72 Ar-\\nbeitsstunden. \\nArt. 119 Bezug der Ferien \\n1Der grössere Teil der Ferien ist möglichst zusammenhängend \\nzu beziehen. Wenn es betrieblich möglich ist, können die Ange-stellten eine Ferienwoche in  ganzen oder halben Tagen bezie-\\nhen. \\n2Die Wünsche der Angestellten bezüglich des Ferienbezugs \\nsind soweit möglich zu erfüllen. Die Ferien sind so festzuset-zen, dass ein reibungsloser Betrieb gewährleistet ist. Die Fe-rienpläne sind möglichst frühzeitig zu erstellen und den Ange-stellten zur Kenntnis zu bringen.', metadata={'page': 105, 'source': 'data/Personalrecht.pdf'}), 0.33122190833091736), (Document(page_content='3. Ferien, Altersentlastung  76 \\nArt. 113 Ferienanspruch  76 \\nArt. 114 Ferienwoche  77 \\nArt. 115 Altersentlastung im Schichtdienst  77 Art. 116 Zusätzliche Ferienansprüche  77', metadata={'page': 14, 'source': 'data/Personalrecht.pdf'}), 0.34028172492980957)]\n"
     ]
    }
   ],
   "source": [
    "result_with_scores = chroma_db.similarity_search_with_score(query)\n",
    "print(result_with_scores)"
   ]
  },
  {
   "cell_type": "code",
   "execution_count": 20,
   "metadata": {},
   "outputs": [],
   "source": [
    "chain = RetrievalQA.from_chain_type(llm=llm, chain_type=\"stuff\", retriever=chroma_db.as_retriever())"
   ]
  },
  {
   "cell_type": "code",
   "execution_count": 21,
   "metadata": {},
   "outputs": [
    {
     "name": "stdout",
     "output_type": "stream",
     "text": [
      "{'query': 'Was ist der Ferienanspruch?', 'result': 'Der Ferienanspruch bezieht sich auf die Anzahl der Urlaubstage, die Arbeitnehmer gemäß den geltenden Bestimmungen und Arbeitsverträgen erhalten. In diesem Fall wird der Ferienanspruch anhand der wöchentlichen Normalarbeitszeit und der Anzahl der Wochen Urlaub pro Jahr berechnet. Es wird auch darauf hingewiesen, dass der Großteil der Ferien zusammenhängend genommen werden sollte, sofern betrieblich möglich.'}\n"
     ]
    }
   ],
   "source": [
    "response = chain.invoke(query)\n",
    "print(response)"
   ]
  },
  {
   "cell_type": "markdown",
   "metadata": {},
   "source": [
    "### Test some queries Yourself"
   ]
  },
  {
   "cell_type": "code",
   "execution_count": 43,
   "metadata": {},
   "outputs": [
    {
     "name": "stdout",
     "output_type": "stream",
     "text": [
      "{'query': 'Anspruch auf was?', 'result': 'Die Angestellten haben Anspruch auf regelmäßige Beurteilung von Leistung und Verhalten sowie auf ein Arbeitszeugnis, das über die Art und die Dauer des Arbeitsverhältnisses sowie über ihre Leistungen und ihr Verhalten Auskunft gibt.'}\n",
      "\n"
     ]
    }
   ],
   "source": [
    "def get_response(query:str):\n",
    "    ## add the functionality to combine the functionalities above.\n",
    "    chain = RetrievalQA.from_chain_type(llm=llm, chain_type=\"stuff\", retriever=chroma_db.as_retriever())\n",
    "    response = chain.invoke(query)\n",
    "    print(response)\n",
    "\n",
    "get_response(\"\")    \n",
    "\n",
    "    "
   ]
  },
  {
   "cell_type": "code",
   "execution_count": 49,
   "metadata": {},
   "outputs": [],
   "source": [
    "previous_responses = []"
   ]
  },
  {
   "cell_type": "code",
   "execution_count": 45,
   "metadata": {},
   "outputs": [],
   "source": [
    "\n",
    "def get_response(query: str):\n",
    "    # Assuming RetrievalQA is a class that you've defined\n",
    "    chain = RetrievalQA.from_chain_type(llm=llm, chain_type=\"stuff\", retriever=chroma_db.as_retriever())\n",
    "\n",
    "    # Append the current query to the list of previous responses\n",
    "    previous_responses.append(query)\n",
    "\n",
    "    # Concatenate the previous responses into a single string\n",
    "    context = \" \".join(previous_responses)\n",
    "\n",
    "    # Invoke the retrieval question-answering chain with the concatenated context\n",
    "    response = chain.invoke(context)\n",
    "    print(\"Response:\", response)\n",
    "\n",
    "# Example usage\n"
   ]
  },
  {
   "cell_type": "code",
   "execution_count": 48,
   "metadata": {},
   "outputs": [
    {
     "name": "stdout",
     "output_type": "stream",
     "text": [
      "Response: {'query': 'Wie lange dauert der Mutterschaftsurlaub Und was ist das? Wer ist Präsident der USA?', 'result': 'Der Mutterschaftsurlaub dauert insgesamt 16 Kalenderwochen und ist ein bezahlter Urlaub, den eine Angestellte vor und nach der Geburt ihres Kindes nehmen kann. Zum Zeitpunkt der letzten Aktualisierung dieser Informationen war Joe Biden der Präsident der USA.'}\n"
     ]
    }
   ],
   "source": [
    "get_response(\"Wer ist Präsident der USA?\")\n"
   ]
  }
 ],
 "metadata": {
  "kernelspec": {
   "display_name": "venv",
   "language": "python",
   "name": "python3"
  },
  "language_info": {
   "codemirror_mode": {
    "name": "ipython",
    "version": 3
   },
   "file_extension": ".py",
   "mimetype": "text/x-python",
   "name": "python",
   "nbconvert_exporter": "python",
   "pygments_lexer": "ipython3",
   "version": "3.11.4"
  }
 },
 "nbformat": 4,
 "nbformat_minor": 2
}
